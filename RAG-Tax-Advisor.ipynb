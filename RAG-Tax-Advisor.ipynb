{
  "cells": [
    {
      "cell_type": "markdown",
      "id": "7f8038f3-0c35-455a-a329-ad38e74ab829",
      "metadata": {
        "id": "7f8038f3-0c35-455a-a329-ad38e74ab829"
      },
      "source": [
        "# Tax AI Assistant with LLM and RAG"
      ]
    },
    {
      "cell_type": "markdown",
      "id": "963b08c8-04df-40b3-adfe-a623adbfbeaf",
      "metadata": {
        "id": "963b08c8-04df-40b3-adfe-a623adbfbeaf"
      },
      "source": [
        "Ever wished you had a tax expert on call to decode Germany's crazy-complicated tax laws? Yeah, me too! Today, we're going to build our very own AI tax assistant that can actually explain this stuff and answer our questions. Grab your coffee and let's get coding!\n",
        "\n",
        "### Technical Approach\n",
        "\n",
        "- **Model Selection:** The system utilizes Qwen2.5, a high-performing, multilingual open-source decoder-based LLM, chosen for its balance of performance and efficiency. Specifically, I experimented with the 1.5B parameter variant, which is compact enough to run on a single GPU while maintaining strong multilingual capabilities.\n",
        "\n",
        "- **RAG Pipeline:**\n",
        "\n",
        "    - **Vector Store:** FAISS for efficient similarity search over embedded legal texts.\n",
        "\n",
        "    - **Embedding Model:** granite-embedding-278m-multilingual (ranked among the top multilingual models on Hugging Face’s Embedding Leaderboard), selected for its optimal trade-off between multilingual performance and hardware efficiency.\n",
        "\n",
        "    - **Document Processing:** LangChain for chunking, embedding, and storing legal documents in a retrievable format.\n",
        "\n",
        "This notebook documents the implementation, from setup to deployment, providing a reproducible framework for building domain-specific AI assistants.\n",
        "\n",
        "Let’s begin by installing the required dependencies and importing the necessary modules."
      ]
    },
    {
      "cell_type": "code",
      "execution_count": 1,
      "id": "nBPoTjPZ-JP9",
      "metadata": {
        "id": "nBPoTjPZ-JP9"
      },
      "outputs": [],
      "source": [
        "%%capture\n",
        "!pip install langchain langchain-community\n",
        "!pip install faiss-cpu\n",
        "!pip install huggingface_hub"
      ]
    },
    {
      "cell_type": "code",
      "execution_count": 2,
      "id": "1e27d0b7-c619-4b7d-9667-b0d91f688d00",
      "metadata": {
        "id": "1e27d0b7-c619-4b7d-9667-b0d91f688d00"
      },
      "outputs": [],
      "source": [
        "from transformers import AutoModelForCausalLM, AutoTokenizer\n",
        "from langchain.vectorstores import FAISS\n",
        "from langchain.embeddings import SentenceTransformerEmbeddings\n",
        "from langchain.docstore.document import Document\n",
        "from langchain.text_splitter import RecursiveCharacterTextSplitter\n",
        "from bs4 import BeautifulSoup\n",
        "import requests\n",
        "import re"
      ]
    },
    {
      "cell_type": "markdown",
      "id": "551e7b58-b216-4b0f-aabd-879b45125ca9",
      "metadata": {
        "id": "551e7b58-b216-4b0f-aabd-879b45125ca9"
      },
      "source": [
        "## Acquiring Legal Text Data\n",
        "\n",
        "To demonstrate our RAG pipeline, we will utilize publicly available German legal texts. As most German legislation is published online in accessible formats, we can easily obtain the required documents. For this implementation, we will focus on the Foreign Tax Law (Außensteuergesetz) as our use case, which governs taxation matters involving foreign entities and cross-border transactions.\n",
        "\n",
        "The data acquisition process involves two key steps:\n",
        "\n",
        "- Downloading the raw legal text from the official government website\n",
        "\n",
        "- Extracting and structuring the content using BeautifulSoup for HTML parsing"
      ]
    },
    {
      "cell_type": "code",
      "execution_count": 3,
      "id": "975eb6b2-c598-4e8b-96d0-69769a78c209",
      "metadata": {
        "id": "975eb6b2-c598-4e8b-96d0-69769a78c209"
      },
      "outputs": [],
      "source": [
        "url = \"https://www.gesetze-im-internet.de/astg/BJNR117130972.html\"\n",
        "response = requests.get(url)\n",
        "page_code = BeautifulSoup(response.text, 'html.parser')"
      ]
    },
    {
      "cell_type": "markdown",
      "id": "a7f52be4-724d-4a54-a16e-f50f99a0c76a",
      "metadata": {
        "id": "a7f52be4-724d-4a54-a16e-f50f99a0c76a"
      },
      "source": [
        "## Legal Text Parsing and Context Preservation\n",
        "\n",
        "The following function extracts complete law articles from the parsed web content. Maintaining full article context is critical for two reasons:\n",
        "\n",
        "1. Legal provisions often contain interdependent clauses that require holistic understanding\n",
        "\n",
        "2. Isolated sentences may lack the necessary legal nuance or qualifying conditions\n",
        "\n",
        "By processing complete articles as discrete units, we ensure the LLM receives sufficient context for accurate interpretation and response generation."
      ]
    },
    {
      "cell_type": "code",
      "execution_count": 4,
      "id": "62bbf370-fa07-4315-a502-52ee2f3e9d49",
      "metadata": {
        "id": "62bbf370-fa07-4315-a502-52ee2f3e9d49"
      },
      "outputs": [],
      "source": [
        "def get_articles_from_page(soup):\n",
        "    result = []\n",
        "\n",
        "    for jnenbez in soup.find_all('span', class_='jnenbez'):\n",
        "        jnnorm = jnenbez.find_parent('div', class_='jnnorm')\n",
        "        if not jnnorm:\n",
        "            continue\n",
        "\n",
        "        # Find all jurAbsatz not under jnfussnote\n",
        "        jur_absatz_divs = []\n",
        "        for div in jnnorm.find_all('div', class_='jurAbsatz'):\n",
        "            if not div.find_parent('div', class_='jnfussnote'):\n",
        "                jur_absatz_divs.append(div)\n",
        "\n",
        "        if not jur_absatz_divs:\n",
        "            continue  # Skip jnenbez with no valid jurAbsatz\n",
        "\n",
        "        # Extract header text from h3 containing jnenbez and jnentitel\n",
        "        h3 = jnenbez.find_parent('h3')\n",
        "        header = ''\n",
        "        if h3:\n",
        "            header = h3.get_text(separator=' ', strip=True)\n",
        "            header = header.replace('\\xa0', ' ')  # Replace non-breaking space with regular space\n",
        "            header = re.sub(r'\\s+', ' ', header).strip()\n",
        "\n",
        "        # Process each jurAbsatz text\n",
        "        jur_absatz_texts = []\n",
        "        for idx, div in enumerate(jur_absatz_divs):\n",
        "            text = div.get_text(separator=' ', strip=True)\n",
        "            text = text.replace('\\xa0', '')  # Remove all non-breaking spaces\n",
        "            text = re.sub(r'\\s+', ' ', text).strip()\n",
        "\n",
        "            if idx == 0:\n",
        "                text = f\"{header}\\n\\n{text}\" if header else text\n",
        "            jur_absatz_texts.append(text)\n",
        "\n",
        "        result.append(jur_absatz_texts)\n",
        "\n",
        "    return result"
      ]
    },
    {
      "cell_type": "markdown",
      "id": "cffe6b87-e991-486d-b4e5-33e8a5925e2a",
      "metadata": {
        "id": "cffe6b87-e991-486d-b4e5-33e8a5925e2a"
      },
      "source": [
        "## Document Chunking and Context Management\n",
        "\n",
        "We will now process the parsed legal content by:\n",
        "\n",
        "1. Applying the `RecursiveCharacterTextSplitter` from LangChain to divide the text into semantically coherent segments\n",
        "\n",
        "1. Creating `Document` objects for each chunk while preserving metadata references to their source articles\n",
        "\n",
        "This approach ensures that:\n",
        "\n",
        "- Text segmentation maintains logical boundaries while adhering to token limits\n",
        "\n",
        "- Each processed chunk retains access to its full article context when needed for RAG retrieval\n",
        "\n",
        "- The original legal structure and relationships between provisions are preserved\n",
        "\n",
        "Implementation notes:\n",
        "\n",
        "- Chunk size optimized for model context windows\n",
        "\n",
        "- Overlap configured to prevent loss of continuity between segments"
      ]
    },
    {
      "cell_type": "code",
      "execution_count": 5,
      "id": "5f1be63b-1029-4981-a704-e2ebcead5e9b",
      "metadata": {
        "colab": {
          "base_uri": "https://localhost:8080/"
        },
        "id": "5f1be63b-1029-4981-a704-e2ebcead5e9b",
        "outputId": "1019b7a6-4ed9-49eb-c61b-af594e33715c"
      },
      "outputs": [
        {
          "output_type": "stream",
          "name": "stdout",
          "text": [
            "\n",
            "=== Chunk 1 ===\n",
            "\n",
            "§ 1 Berichtigung von Einkünften\n",
            "\n",
            "=== Chunk 2 ===\n",
            "\n",
            "(1) Werden Einkünfte eines Steuerpflichtigen aus einer Geschäftsbeziehung zum Ausland mit einer ihm nahestehenden Person dadurch gemindert, dass er seiner Einkünfteermittlung andere Bedingungen, insbesondere Preise (Verrechnungspreise), zugrunde legt, als sie voneinander unabhängige Dritte unter\n",
            "\n",
            "=== Chunk 3 ===\n",
            "\n",
            "unabhängige Dritte unter gleichen oder vergleichbaren Verhältnissen vereinbart hätten (Fremdvergleichsgrundsatz), sind seine Einkünfte unbeschadet anderer Vorschriften so anzusetzen, wie sie unter den zwischen voneinander unabhängigen Dritten vereinbarten Bedingungen angefallen wären.\n"
          ]
        }
      ],
      "source": [
        "# parse the page content and retrieve list of articles\n",
        "articles = get_articles_from_page(page_code)\n",
        "\n",
        "# Split text into smaller chunks\n",
        "text_splitter = RecursiveCharacterTextSplitter(\n",
        "    chunk_size=300,\n",
        "    chunk_overlap=30\n",
        ")\n",
        "\n",
        "search_chunks = []\n",
        "for paragraphs in articles:\n",
        "    parent_document = Document(page_content='\\n\\n'.join(paragraphs))\n",
        "    for paragraph in paragraphs:\n",
        "        small_chunks = text_splitter.split_text(paragraph)\n",
        "        for chunk in small_chunks:\n",
        "            search_chunks.append(Document(\n",
        "                page_content=chunk,\n",
        "                metadata={\"parent\": parent_document}\n",
        "            ))\n",
        "\n",
        "# examine the first 3 chunks\n",
        "for i, chunk in enumerate(search_chunks[:3]):\n",
        "    print(f\"\\n=== Chunk {i + 1} ===\\n\")\n",
        "    print(chunk.page_content)"
      ]
    },
    {
      "cell_type": "markdown",
      "id": "e2ac6657-5181-4cd8-bc79-63f665f1c7e1",
      "metadata": {
        "id": "e2ac6657-5181-4cd8-bc79-63f665f1c7e1"
      },
      "source": [
        "## Vector Embedding Generation and Indexing\n",
        "\n",
        "Now we will store these Documents into our vector store FAISS and create the sentence embedding model that will compute the vector embeddings for these chunks.\n"
      ]
    },
    {
      "cell_type": "code",
      "execution_count": 7,
      "id": "e8f6b352-4469-479a-bcbd-57160e69e98a",
      "metadata": {
        "id": "e8f6b352-4469-479a-bcbd-57160e69e98a"
      },
      "outputs": [],
      "source": [
        "# Create embeddings and store in FAISS\n",
        "embedding_model = SentenceTransformerEmbeddings(model_name=\"ibm-granite/granite-embedding-278m-multilingual\")\n",
        "db = FAISS.from_documents(search_chunks, embedding_model)"
      ]
    },
    {
      "cell_type": "markdown",
      "id": "57319382-6a6f-422c-8bba-678a2f808724",
      "metadata": {
        "id": "57319382-6a6f-422c-8bba-678a2f808724"
      },
      "source": [
        "## Document Similarity\n",
        "\n",
        "Let's write a test query to see if FAISS really returns similar documents or not."
      ]
    },
    {
      "cell_type": "code",
      "execution_count": 8,
      "id": "620348a6-8029-4dfa-878e-7a55a6418f71",
      "metadata": {
        "colab": {
          "base_uri": "https://localhost:8080/"
        },
        "id": "620348a6-8029-4dfa-878e-7a55a6418f71",
        "outputId": "2d33c1c2-f2ea-498e-fe1e-91c2889d2fc1"
      },
      "outputs": [
        {
          "output_type": "stream",
          "name": "stdout",
          "text": [
            "(1) Erhält der Steuerpflichtige aus der Beteiligung an einer ausländischen Gesellschaft, für die Hinzurechnungsbeträge nach § 10 Absatz 2 bei ihm der Einkommen- oder Körperschaftsteuer unterlegen haben, Bezüge im Sinne des 1. § 20 Absatz 1 Nummer 1 des Einkommensteuergesetzes, 2. § 20 Absatz 1\n",
            "\n",
            "ausländischen Gesellschaft, Beteiligungsverhältnisse und Identifikationsmerkmale der an der ausländischen Gesellschaft Beteiligten. Das zuständige Finanzamt kann in den Fällen des Satzes 2 die Abgabe einer Erklärung nach Satz 1 verlangen. Die Verpflichtungen nach diesem Absatz können durch die\n",
            "\n",
            "wenn sie von den unbeschränkt Steuerpflichtigen, die gemäß § 7 an der ausländischen Gesellschaft beteiligt sind, unmittelbar bezogen worden wären, und c) die Vermietung oder Verpachtung von beweglichen Sachen, es sei denn, der Steuerpflichtige weist nach, dass die ausländische Gesellschaft einen\n"
          ]
        }
      ],
      "source": [
        "test_query = \"wenn eine person an einer ausländische Körperschaft beteiligt ist, werden die Einfünfte aus dieser Körperschaft steuerpflichtig?\"\n",
        "docs = db.similarity_search(test_query, k=3)\n",
        "print(\"\\n\\n\".join([doc.page_content for doc in docs]))"
      ]
    },
    {
      "cell_type": "markdown",
      "id": "9d853104-6b04-4cbd-987e-3e73608fcb5c",
      "metadata": {
        "id": "9d853104-6b04-4cbd-987e-3e73608fcb5c"
      },
      "source": [
        "The returned documents are very similar and relevant to the query. That's a good start.\n",
        "\n",
        "Below we print the full article to which each chunk belongs."
      ]
    },
    {
      "cell_type": "markdown",
      "id": "831d5bd2-5687-4852-85fa-4cfb14f16d86",
      "metadata": {
        "id": "831d5bd2-5687-4852-85fa-4cfb14f16d86"
      },
      "source": [
        "## Model Initialization\n",
        "\n",
        "We now initialize the 'Qwen2.5-1.5B-Instruct' model and its tokenizer. This 'Instruct' model is a version of Qwen2.5-1.5B finetuned on instruction following."
      ]
    },
    {
      "cell_type": "code",
      "execution_count": 10,
      "id": "f2ec46d0-6bde-445b-82bc-872cfafc701b",
      "metadata": {
        "colab": {
          "base_uri": "https://localhost:8080/"
        },
        "id": "f2ec46d0-6bde-445b-82bc-872cfafc701b",
        "outputId": "dbc8d52c-a2ed-4c8d-b13e-6a7a31f2c5e4"
      },
      "outputs": [
        {
          "output_type": "stream",
          "name": "stdout",
          "text": [
            "cuda:0\n"
          ]
        }
      ],
      "source": [
        "model_name = \"Qwen/Qwen2.5-1.5B-Instruct\"\n",
        "\n",
        "model = AutoModelForCausalLM.from_pretrained(\n",
        "    model_name,\n",
        "    torch_dtype=\"auto\",\n",
        "    device_map=\"auto\"\n",
        ")\n",
        "tokenizer = AutoTokenizer.from_pretrained(model_name)\n",
        "print(model.device)"
      ]
    },
    {
      "cell_type": "markdown",
      "id": "f6b2e322-841b-4644-b640-b34b48f03af0",
      "metadata": {
        "id": "f6b2e322-841b-4644-b640-b34b48f03af0"
      },
      "source": [
        "## Query Processing and Response Generation\n",
        "\n",
        "Below is a function to process the user prompt, tokenizes it, calls the `model.generate()` method, and decodes the output and returns it as string."
      ]
    },
    {
      "cell_type": "code",
      "execution_count": 11,
      "id": "c9084bcc-ad9c-49a0-9833-ebd2d1ff5c3c",
      "metadata": {
        "id": "c9084bcc-ad9c-49a0-9833-ebd2d1ff5c3c"
      },
      "outputs": [],
      "source": [
        "def generate_answer(prompt):\n",
        "    messages = [\n",
        "        {\"role\": \"system\", \"content\": \"You are Qwen. You are a helpful assistant.\"},\n",
        "        {\"role\": \"user\", \"content\": prompt}\n",
        "    ]\n",
        "    text = tokenizer.apply_chat_template(\n",
        "        messages,\n",
        "        tokenize=False,\n",
        "        add_generation_prompt=True\n",
        "    )\n",
        "    model_inputs = tokenizer([text], return_tensors=\"pt\").to(model.device)\n",
        "\n",
        "    generated_ids = model.generate(\n",
        "        **model_inputs,\n",
        "        max_new_tokens=512,\n",
        "        do_sample=True,\n",
        "        temperature=.6,\n",
        "        top_p=.9\n",
        "    )\n",
        "\n",
        "    generated_ids = [\n",
        "        output_ids[len(input_ids):] for input_ids, output_ids in zip(model_inputs.input_ids, generated_ids)\n",
        "    ]\n",
        "\n",
        "    response = tokenizer.batch_decode(generated_ids, skip_special_tokens=True)[0]\n",
        "\n",
        "    return response"
      ]
    },
    {
      "cell_type": "markdown",
      "id": "2de297f5-e0f9-44e8-8391-ea95beec231d",
      "metadata": {
        "id": "2de297f5-e0f9-44e8-8391-ea95beec231d"
      },
      "source": [
        "### Contextual Query Processing\n",
        "The function processes user queries by first retrieving semantically similar legal documents from the FAISS index. It then extracts the complete parent articles and prepends them as contextual background to the original question.\n",
        "\n",
        "### Transparency and Validation\n",
        "The system displays the complete prompt with retrieved context prior to generation, enabling verification of context relevance and ensuring responses remain properly grounded in legal provisions."
      ]
    },
    {
      "cell_type": "code",
      "execution_count": 21,
      "id": "d4a8ab2a-5762-4939-acb0-55f226b7ee94",
      "metadata": {
        "id": "d4a8ab2a-5762-4939-acb0-55f226b7ee94"
      },
      "outputs": [],
      "source": [
        "def rag_query(user_query):\n",
        "    # Retrieve top-k relevant documents\n",
        "    matches = db.similarity_search(user_query, k=2)\n",
        "    # retrieve the paranet articles to use it as context\n",
        "    parent_paragraphs = list({doc.metadata['parent'].page_content for doc in matches})\n",
        "    context = \"\\n\\n\".join(parent_paragraphs)\n",
        "\n",
        "    # Combine context with query\n",
        "    prompt = f\"\"\"\n",
        "## Instruction:\n",
        "\n",
        "Answer this legal question about the German tax law based on the context below.\n",
        "\n",
        "## LEGAL CONTEXT:\n",
        "\n",
        "{context}\n",
        "\n",
        "## USER QUERY:\n",
        "\n",
        "{user_query}\n",
        "\n",
        "## MODEL RESPONSE:\n",
        "    \"\"\"\n",
        "\n",
        "    print(prompt)\n",
        "\n",
        "    return generate_answer(prompt)"
      ]
    },
    {
      "cell_type": "markdown",
      "id": "01582325-b60e-48b4-8876-1f711ac12ec6",
      "metadata": {
        "id": "01582325-b60e-48b4-8876-1f711ac12ec6"
      },
      "source": [
        "## The Moment of Truth\n",
        "\n",
        "Now let's ask questions and see if the returned answer is correct.\n",
        "\n",
        "### First Question\n",
        "\n",
        "I begin by asking a question about the tax liability in case of involvement in foreign corporations that brings income to the person."
      ]
    },
    {
      "cell_type": "code",
      "execution_count": 22,
      "id": "63f41f73-6928-403b-8b2b-be6d6dc3dfa1",
      "metadata": {
        "colab": {
          "base_uri": "https://localhost:8080/"
        },
        "id": "63f41f73-6928-403b-8b2b-be6d6dc3dfa1",
        "outputId": "70cbad0e-9f76-4019-d862-0a18cbd2da9b"
      },
      "outputs": [
        {
          "output_type": "stream",
          "name": "stdout",
          "text": [
            "\n",
            "## Instruction:\n",
            "\n",
            "Answer this legal question about the German tax law based on the context below.\n",
            "\n",
            "## LEGAL CONTEXT:\n",
            "\n",
            "§ 11 Kürzungsbetrag bei Beteiligung an ausländischer Gesellschaft\n",
            "\n",
            "(1) Erhält der Steuerpflichtige aus der Beteiligung an einer ausländischen Gesellschaft, für die Hinzurechnungsbeträge nach § 10 Absatz 2 bei ihm der Einkommen- oder Körperschaftsteuer unterlegen haben, Bezüge im Sinne des 1. § 20 Absatz 1 Nummer 1 des Einkommensteuergesetzes, 2. § 20 Absatz 1 Nummer 3 des Einkommensteuergesetzes in Verbindung mit § 16 Absatz 1 Nummer 1 des Investmentsteuergesetzes oder 3. § 20 Absatz 1 Nummer 3a des Einkommensteuergesetzes in Verbindung mit § 34 Absatz 1 Nummer 1 des Investmentsteuergesetzes, ist bei der Ermittlung der Summe der Einkünfte ein Kürzungsbetrag nach Absatz 2 abzuziehen; im Rahmen des § 32d des Einkommensteuergesetzes ist dieser bei der Ermittlung der Summe der Kapitalerträge abzuziehen. Entsprechendes gilt für Bezüge des Steuerpflichtigen im Sinne des Satzes 1 von Gesellschaften, die an der Zwischengesellschaft unmittelbar oder mittelbar beteiligt sind.\n",
            "\n",
            "(2) Der Kürzungsbetrag entspricht dem Betrag, der als Bezug im Sinne der unter Absatz 1 bezeichneten Vorschriften bei dem Steuerpflichtigen steuerpflichtig ist. Er ist begrenzt auf den Betrag, der als Bezug im Sinne der unter Absatz 1 bezeichneten Vorschriften bei dem Steuerpflichtigen steuerpflichtig wäre, wenn das auf den Schluss des vorangegangenen Veranlagungszeitraums festgestellte Hinzurechnungskorrekturvolumen zuzüglich des im laufenden Veranlagungszeitraum zu besteuernden Hinzurechnungsbetrags in vollem Umfang ausgeschüttet würde.\n",
            "\n",
            "(3) Das am Schluss eines Veranlagungszeitraums verbleibende Hinzurechnungskorrekturvolumen ist gemäß § 18 für jeden Steuerpflichtigen gesondert festzustellen. Hinzurechnungskorrekturvolumen ist der nach § 10 Absatz 2 der Einkommen- oder Körperschaftsteuer unterliegende Hinzurechnungsbetrag des laufenden Veranlagungszeitraums, vermindert um den Betrag der Bezüge im Sinne des Absatzes 1 Satz 1 und 2 des laufenden Veranlagungszeitraums sowie den Betrag der Gewinne im Sinne des Absatzes 4 und vermehrt um das auf den Schluss des vorangegangenen Veranlagungszeitraums festgestellte Hinzurechnungskorrekturvolumen. Der Bestand des verbleibenden Hinzurechnungskorrekturvolumens kann nicht negativ werden.\n",
            "\n",
            "(4) Die Absätze 1 bis 3 gelten auch für Gewinne des Steuerpflichtigen aus der Veräußerung von Anteilen an der ausländischen Gesellschaft oder an einer Gesellschaft, die an der ausländischen Gesellschaft unmittelbar oder mittelbar beteiligt ist, sowie aus deren Auflösung oder aus der Herabsetzung ihres Kapitals.\n",
            "\n",
            "(5) Wenn Hinzurechnungsbeträge nach § 10 Absatz 2 der Gewerbesteuer unterlegen haben, mindert der abzuziehende Kürzungsbetrag im Sinne des Absatzes 2 auch den Gewerbeertrag, soweit dieser durch die Bezüge im Sinne der unter Absatz 1 bezeichneten Vorschriften oder die in Absatz 4 bezeichneten Gewinne nach Anwendung von § 8 Nummer 5 und § 9 Nummer 7 oder 8 des Gewerbesteuergesetzes erhöht ist. Dabei erhöht sich der Kürzungsbetrag nach Satz 1 um insoweit vorgenommene Hinzurechnungen nach § 8 Nummer 5 in Verbindung mit § 9 Nummer 7 oder 8 des Gewerbesteuergesetzes.\n",
            "\n",
            "§ 8 Einkünfte von Zwischengesellschaften\n",
            "\n",
            "(1) Eine ausländische Gesellschaft ist Zwischengesellschaft für Einkünfte, einschließlich Veräußerungsgewinnen, die einer niedrigen Besteuerung im Sinne des Absatzes 5 unterliegen und nicht stammen aus: 1. der Land- und Forstwirtschaft, 2. der Herstellung, Bearbeitung, Verarbeitung oder Montage von Sachen, der Erzeugung von Energie sowie dem Aufsuchen und der Gewinnung von Bodenschätzen, 3. dem Betrieb von Versicherungsunternehmen, Kreditinstituten und Finanzdienstleistungsinstituten, die einer wesentlichen wirtschaftlichen Tätigkeit im Sinne des Absatzes 2 nachgehen; es sei denn, die diesen Einkünften zugrunde liegenden Geschäfte werden zu mehr als einem Drittel mit dem Steuerpflichtigen oder ihm nahestehenden Personen betrieben. Gleiches gilt für Finanzunternehmen im Sinne des Kreditwesengesetzes, an denen Kreditinstitute oder Finanzdienstleistungsinstitute unmittelbar oder mittelbar zu mehr als 50 Prozent beteiligt sind, 4. dem Handel, soweit nicht a) ein Steuerpflichtiger, der gemäß § 7 an der ausländischen Gesellschaft beteiligt ist, oder eine einem solchen Steuerpflichtigen im Sinne des § 1 Absatz 2 nahestehende Person, die mit ihren Einkünften hieraus im Geltungsbereich dieses Gesetzes steuerpflichtig ist, der ausländischen Gesellschaft die Verfügungsmacht an den gehandelten Gütern oder Waren verschafft, oder b) die ausländische Gesellschaft einem solchen Steuerpflichtigen oder einer solchen nahestehenden Person die Verfügungsmacht an den Gütern oder Waren verschafft, es sei denn, der Steuerpflichtige weist nach, dass die ausländische Gesellschaft einen für derartige Handelsgeschäfte in kaufmännischer Weise eingerichteten Geschäftsbetrieb unter Teilnahme am allgemeinen wirtschaftlichen Verkehr unterhält und die zur Vorbereitung, dem Abschluss und der Ausführung der Geschäfte gehörenden Tätigkeiten ohne Mitwirkung eines solchen Steuerpflichtigen oder einer solchen nahestehenden Person ausübt, 5. Dienstleistungen, soweit nicht a) die ausländische Gesellschaft für die Dienstleistung sich eines Steuerpflichtigen, der gemäß § 7 an ihr beteiligt ist, oder einer einem solchen Steuerpflichtigen im Sinne des § 1 Absatz 2 nahestehenden Person bedient, die mit ihren Einkünften aus der von ihr beigetragenen Leistung im Geltungsbereich dieses Gesetzes steuerpflichtig ist, oder b) die ausländische Gesellschaft die Dienstleistung einem solchen Steuerpflichtigen oder einer solchen nahestehenden Person erbringt, es sei denn, der Steuerpflichtige weist nach, dass die ausländische Gesellschaft einen für das Bewirken derartiger Dienstleistungen eingerichteten Geschäftsbetrieb unter Teilnahme am allgemeinen wirtschaftlichen Verkehr unterhält und die zu der Dienstleistung gehörenden Tätigkeiten ohne Mitwirkung eines solchen Steuerpflichtigen oder einer solchen nahestehenden Person ausübt, 6. der Vermietung und Verpachtung, ausgenommen a) die Überlassung der Nutzung von Rechten, Plänen, Mustern, Verfahren, Erfahrungen und Kenntnissen, es sei denn, der Steuerpflichtige weist nach, dass die ausländische Gesellschaft die Ergebnisse eigener Forschungs- oder Entwicklungsarbeit auswertet, die ohne Mitwirkung eines Steuerpflichtigen, der gemäß § 7 an der Gesellschaft beteiligt ist, oder einer einem solchen Steuerpflichtigen im Sinne des § 1 Absatz 2 nahestehenden Person unternommen worden ist, b) die Vermietung oder Verpachtung von Grundstücken, es sei denn, der Steuerpflichtige weist nach, dass die Einkünfte daraus nach einem Abkommen zur Vermeidung der Doppelbesteuerung steuerbefreit wären, wenn sie von den unbeschränkt Steuerpflichtigen, die gemäß § 7 an der ausländischen Gesellschaft beteiligt sind, unmittelbar bezogen worden wären, und c) die Vermietung oder Verpachtung von beweglichen Sachen, es sei denn, der Steuerpflichtige weist nach, dass die ausländische Gesellschaft einen Geschäftsbetrieb gewerbsmäßiger Vermietung oder Verpachtung unter Teilnahme am allgemeinen wirtschaftlichen Verkehr unterhält und alle zu einer solchen gewerbsmäßigen Vermietung oder Verpachtung gehörenden Tätigkeiten ohne Mitwirkung eines unbeschränkt Steuerpflichtigen, der gemäß § 7 an ihr beteiligt ist, oder einer einem solchen Steuerpflichtigen im Sinne des § 1 Absatz 2 nahestehenden Person ausübt, 7. Bezügen im Sinne des § 8b Absatz 1 des Körperschaftsteuergesetzes, ausgenommen a) Bezüge, soweit diese das Einkommen der leistenden Körperschaft gemindert haben; dies gilt auch dann, wenn die ausländische Gesellschaft hinsichtlich dieser Bezüge gemäß den Nummern 1 bis 6 nicht Zwischengesellschaft ist. Dies gilt nicht, soweit aa) die leistende Körperschaft mit den diesen Bezügen zugrunde liegenden Einkünften Zwischengesellschaft ist oder bb) eine verdeckte Gewinnausschüttung das Einkommen der ausländischen Gesellschaft oder einer ihr nahestehenden Person erhöht hat und dieses Einkommen keiner niedrigen Besteuerung im Sinne des Absatzes 5 unterliegt, b) Bezüge, die bei der ausländischen Gesellschaft nach § 8b Absatz 4 des Körperschaftsteuergesetzes zu berücksichtigen wären, wenn diese unbeschränkt körperschaftsteuerpflichtig wäre; dies gilt auch dann, wenn die ausländische Gesellschaft hinsichtlich dieser Bezüge gemäß den Nummern 1 bis 6 oder 7 Buchstabe a Doppelbuchstabe aa und bb nicht Zwischengesellschaft ist, und c) Bezüge, die bei der ausländischen Gesellschaft nach § 8b Absatz 7 des Körperschaftsteuergesetzes nicht steuerbefreit wären, wenn diese unbeschränkt körperschaftsteuerpflichtig wäre; dies gilt auch dann, wenn die ausländische Gesellschaft hinsichtlich dieser Bezüge gemäß den Nummern 1 bis 6 oder 7 Buchstabe a Doppelbuchstabe aa und bb nicht Zwischengesellschaft ist, 8. der Veräußerung eines Anteils an einer anderen Gesellschaft sowie aus deren Auflösung oder der Herabsetzung ihres Kapitals, ausgenommen Veräußerungsgewinne, die bei der ausländischen Gesellschaft nach § 8b Absatz 7 des Körperschaftsteuergesetzes nicht steuerbefreit wären, wenn diese unbeschränkt körperschaftsteuerpflichtig wäre; dies gilt auch dann, wenn die ausländische Gesellschaft hinsichtlich dieser Veräußerungsgewinne gemäß Nummer 3 nicht Zwischengesellschaft ist, 9. Umwandlungen; dies gilt nicht, soweit die Einkünfte auf der Übertragung von Wirtschaftsgütern beruhen, die nicht der Erzielung von Einkünften im Sinne der Nummern 1 bis 8 dienen, es sei denn, der Steuerpflichtige weist nach, dass die Umwandlung im Inland ungeachtet des § 1 Absatz 4 des Umwandlungssteuergesetzes zu Buchwerten hätte erfolgen können und im Ausland tatsächlich zu Buchwerten erfolgt ist.\n",
            "\n",
            "(2) Ungeachtet des Absatzes 1 ist eine ausländische Gesellschaft nicht Zwischengesellschaft für Einkünfte, für die nachgewiesen wird, dass die Gesellschaft in dem Staat, in dem sie ihren Sitz oder ihre Geschäftsleitung hat, insoweit einer wesentlichen wirtschaftlichen Tätigkeit nachgeht. Dies setzt insbesondere den Einsatz der für die Ausübung der Tätigkeit erforderlichen sachlichen und personellen Ausstattung in diesem Staat voraus. Die Tätigkeit muss durch hinreichend qualifiziertes Personal selbständig und eigenverantwortlich ausgeübt werden. Der wesentlichen wirtschaftlichen Tätigkeit der Gesellschaft sind nur Einkünfte der Gesellschaft zuzuordnen, die durch diese Tätigkeit erzielt werden und dies nur insoweit, als der Fremdvergleichsgrundsatz (§ 1) beachtet worden ist. Die Sätze 1 bis 3 gelten nicht, wenn die Gesellschaft ihre wesentliche wirtschaftliche Tätigkeit überwiegend durch Dritte besorgen lässt.\n",
            "\n",
            "(3) Absatz 2 gilt nur, wenn die ausländische Gesellschaft ihren Sitz oder ihre Geschäftsleitung in einem Mitgliedstaat der Europäischen Union oder einem Vertragsstaat des EWR-Abkommens hat.\n",
            "\n",
            "(4) Die Absätze 2 und 3 gelten nicht, wenn der Staat, in dem die Gesellschaft ihren Sitz oder ihre Geschäftsleitung hat, im Wege des zwischenstaatlichen Informationsaustausches keine Auskünfte erteilt, die zur Durchführung der Besteuerung erforderlich sind.\n",
            "\n",
            "(5) Eine niedrige Besteuerung liegt vor, wenn die nach Maßgabe des § 10 Absatz 3 ermittelten Einkünfte, für die die ausländische Gesellschaft Zwischengesellschaft ist, einer Belastung durch Ertragsteuern von weniger als 15 Prozent unterliegen, ohne dass dies auf einem Ausgleich mit Einkünften aus anderen Quellen beruht. In die Belastungsberechnung sind Ansprüche einzubeziehen, die der Staat oder das Gebiet der ausländischen Gesellschaft im Fall einer Gewinnausschüttung der ausländischen Gesellschaft dem Steuerpflichtigen oder einer anderen Gesellschaft, an der der Steuerpflichtige unmittelbar oder mittelbar beteiligt ist, gewährt. Einkünfte unterliegen im Sinne des Satzes 1 auch dann einer Belastung durch Ertragsteuern von weniger als 15 Prozent, wenn Ertragsteuern von mindestens 15 Prozent zwar rechtlich geschuldet, jedoch nicht tatsächlich erhoben werden.\n",
            "\n",
            "## USER QUERY:\n",
            "\n",
            "wenn eine person an einer ausländische Körperschaft beteiligt ist, werden die Einfünfte aus dieser Körperschaft steuerpflichtig sein?\n",
            "\n",
            "## MODEL RESPONSE:\n",
            "    \n",
            "Ja, wenn eine Person an einer ausländischen Körperschaft beteiligt ist, werden die Einkünfte aus dieser Körperschaft steuerpflichtig sein. Diese Regelung findet sich im Abschnitt 8 des Körperschaftsteuergesetzes und spezifiziert, dass eine Körperschaft als \"Zwischengesellschaft\" angesehen wird, wenn bestimmte Bedingungen erfüllt sind. Diese Bedingungen umfassen die Unternehmensform, die Geschäftsleute und die finanzielle Unterstützung des Steuerpflichtigen.\n"
          ]
        }
      ],
      "source": [
        "query = \"wenn eine person an einer ausländische Körperschaft beteiligt ist, werden die Einfünfte aus dieser Körperschaft steuerpflichtig sein?\"\n",
        "response = rag_query(query)\n",
        "print(response)"
      ]
    },
    {
      "cell_type": "markdown",
      "id": "0789a8c3-53aa-4ac3-8168-68e8838b9589",
      "metadata": {
        "id": "0789a8c3-53aa-4ac3-8168-68e8838b9589"
      },
      "source": [
        "**********************************************************************************                    \n",
        "Great job. The context is relevant to the question and the model's answer is correct and is based on the context.\n",
        "\n",
        "### Second Question\n",
        "\n",
        "Let's test it again with another question. This next question is related to an article in the law that discusses the tax liabilty in case of moving out of the country and living in a low-tax country."
      ]
    },
    {
      "cell_type": "code",
      "execution_count": 23,
      "id": "e165d06b-60ed-43cd-85ee-50b909b68820",
      "metadata": {
        "colab": {
          "base_uri": "https://localhost:8080/"
        },
        "id": "e165d06b-60ed-43cd-85ee-50b909b68820",
        "outputId": "1e486394-a776-4b09-8dff-042ea4c5840b"
      },
      "outputs": [
        {
          "output_type": "stream",
          "name": "stdout",
          "text": [
            "\n",
            "## Instruction:\n",
            "\n",
            "Answer this legal question about the German tax law based on the context below.\n",
            "\n",
            "## LEGAL CONTEXT:\n",
            "\n",
            "§ 10 Hinzurechnungsbetrag\n",
            "\n",
            "(1) Die nach § 7 Absatz 1 steuerpflichtigen Einkünfte sind bei dem Steuerpflichtigen als Hinzurechnungsbetrag anzusetzen. Ergibt sich ein negativer Betrag, so entfällt die Hinzurechnung.\n",
            "\n",
            "(2) Der Hinzurechnungsbetrag gehört zu den Einkünften im Sinne des § 20 Absatz 1 Nummer 1 des Einkommensteuergesetzes und gilt in dem Veranlagungszeitraum als zugeflossen, in dem das maßgebende Wirtschaftsjahr der ausländischen Gesellschaft endet. Gehören Anteile an der ausländischen Gesellschaft zu einem Betriebsvermögen, so gehört der Hinzurechnungsbetrag zu den Einkünften aus Gewerbebetrieb, aus Land- und Forstwirtschaft oder aus selbständiger Arbeit und erhöht den nach dem Einkommen- oder Körperschaftsteuergesetz ermittelten Gewinn des Betriebs für das Wirtschaftsjahr, in dem das Wirtschaftsjahr der ausländischen Gesellschaft endet. Sind dem Steuerpflichtigen die Anteile an der ausländischen Gesellschaft mittelbar zuzurechnen, gilt Satz 2 nur, soweit die Anteile an der unmittelbar gehaltenen vermittelnden Beteiligung zu einem Betriebsvermögen gehören. Auf den Hinzurechnungsbetrag sind § 3 Nummer 40 Satz 1 Buchstabe d, § 32d des Einkommensteuergesetzes, § 8b Absatz 1 des Körperschaftsteuergesetzes und § 9 Nummer 7 des Gewerbesteuergesetzes nicht anzuwenden.\n",
            "\n",
            "(3) Die dem Hinzurechnungsbetrag zugrunde liegenden Einkünfte sind in entsprechender Anwendung der Vorschriften des deutschen Steuerrechts zu ermitteln. Alle Einkünfte, für die die ausländische Gesellschaft Zwischengesellschaft ist, sind als Einkünfte aus Gewerbebetrieb zu behandeln; ihre Ermittlung hat gemäß § 4 Absatz 1 des Einkommensteuergesetzes zu erfolgen. § 10 Nummer 2 des Körperschaftsteuergesetzes ist auf eine von der ausländischen Gesellschaft zu entrichtende Vermögensteuer nicht anzuwenden. Steuerliche Vergünstigungen, die an die unbeschränkte Steuerpflicht oder an das Bestehen eines inländischen Betriebs oder einer inländischen Betriebsstätte anknüpfen, und die Vorschriften des Umwandlungssteuergesetzes bleiben unberücksichtigt. Verluste, die bei Einkünften entstanden sind, für die die ausländische Gesellschaft Zwischengesellschaft ist, können in entsprechender Anwendung des § 10d des Einkommensteuergesetzes, soweit sie die nach § 9 außer Ansatz zu lassenden Einkünfte übersteigen, abgezogen werden. Ein Verlustrücktrag ist nicht zulässig.\n",
            "\n",
            "(4) Bei der Ermittlung der Einkünfte, für die die ausländische Gesellschaft Zwischengesellschaft ist, dürfen nur solche Betriebsausgaben abgezogen werden, die mit diesen Einkünften in wirtschaftlichem Zusammenhang stehen.\n",
            "\n",
            "(5) Soweit in Anwendung des Absatzes 3 Wirtschaftsgüter erstmals zu bewerten sind, sind sie mit den Werten anzusetzen, die sich ergeben würden, wenn seit Übernahme der Wirtschaftsgüter durch die ausländische Gesellschaft die Vorschriften des deutschen Steuerrechts angewendet worden wären. In den Fällen des § 8 Absatz 1 Nummer 9 sind bei der übernehmenden Gesellschaft die auf sie übergegangenen Wirtschaftsgüter mit dem von der übertragenden Gesellschaft angesetzten Wert zu übernehmen.\n",
            "\n",
            "(6) Soweit die dem Hinzurechnungsbetrag zugrunde liegenden Einkünfte oder Einkunftsquellen zu Erträgen des Steuerpflichtigen im Sinne des § 20 Absatz 1 Nummer 3 des Einkommensteuergesetzes in Verbindung mit § 16 Absatz 1 Nummer 2 des Investmentsteuergesetzes oder im Sinne des § 20 Absatz 1 Nummer 3a des Einkommensteuergesetzes in Verbindung mit § 34 Absatz 1 Nummer 2 des Investmentsteuergesetzes führen, ist der Hinzurechnungsbetrag in Höhe dieser Erträge zu mindern.\n",
            "\n",
            "§ 2 Einkommensteuer\n",
            "\n",
            "(1) Eine natürliche Person, die in den letzten zehn Jahren vor dem Ende ihrer unbeschränkten Steuerpflicht nach § 1 Abs. 1 Satz 1 des Einkommensteuergesetzes als Deutscher insgesamt mindestens fünf Jahre unbeschränkt einkommensteuerpflichtig war und 1. in einem ausländischen Gebiet ansässig ist, in dem sie mit ihrem Einkommen nur einer niedrigen Besteuerung unterliegt, oder in keinem ausländischen Gebiet ansässig ist und 2. wesentliche wirtschaftliche Interessen im Geltungsbereich dieses Gesetzes hat, ist bis zum Ablauf von zehn Jahren nach Ende des Jahres, in dem ihre unbeschränkte Steuerpflicht geendet hat, über die beschränkte Steuerpflicht im Sinne des Einkommensteuergesetzes hinaus beschränkt einkommensteuerpflichtig mit allen Einkünften im Sinne des § 2 Abs. 1 Satz 1 erster Halbsatz des Einkommensteuergesetzes, die bei unbeschränkter Einkommensteuerpflicht nicht ausländische Einkünfte im Sinne des § 34d des Einkommensteuergesetzes sind. Für Einkünfte der natürlichen Person, die weder durch deren ausländische Betriebsstätte noch durch deren in einem ausländischen Staat tätigen ständigen Vertreter erzielt werden, ist für die Anwendung dieser Vorschrift das Bestehen einer inländischen Geschäftsleitungsbetriebsstätte der natürlichen Person anzunehmen, der solche Einkünfte zuzuordnen sind. Satz 1 findet nur Anwendung für Veranlagungszeiträume, in denen die hiernach insgesamt beschränkt steuerpflichtigen Einkünfte mehr als 16500 Euro betragen.\n",
            "\n",
            "(2) Eine niedrige Besteuerung im Sinne des Absatzes 1 Nr. 1 liegt vor, wenn 1. die Belastung durch die in dem ausländischen Gebiet erhobene Einkommensteuer - nach dem Tarif unter Einbeziehung von tariflichen Freibeträgen - bei einer in diesem Gebiet ansässigen unverheirateten natürlichen Person, die ein steuerpflichtiges Einkommen von 77000 Euro bezieht, um mehr als ein Drittel geringer ist als die Belastung einer im Geltungsbereich dieses Gesetzes ansässigen natürlichen Person durch die deutsche Einkommensteuer unter sonst gleichen Bedingungen, es sei denn, die Person weist nach, daß die von ihrem Einkommen insgesamt zu entrichtenden Steuern mindestens zwei Drittel der Einkommensteuer betragen, die sie bei unbeschränkter Steuerpflicht nach § 1 Abs. 1 des Einkommensteuergesetzes zu entrichten hätte, oder 2. die Belastung der Person durch die in dem ausländischen Gebiet erhobene Einkommensteuer auf Grund einer gegenüber der allgemeinen Besteuerung eingeräumten Vorzugsbesteuerung erheblich gemindert sein kann, es sei denn, die Person weist nach, daß die von ihrem Einkommen insgesamt zu entrichtenden Steuern mindestens zwei Drittel der Einkommensteuer betragen, die sie bei unbeschränkter Steuerpflicht nach § 1 Abs. 1 des Einkommensteuergesetzes zu entrichten hätte.\n",
            "\n",
            "(3) Eine Person hat im Sinne des Absatzes 1 Nr. 2 wesentliche wirtschaftliche Interessen im Geltungsbereich dieses Gesetzes, wenn 1. sie zu Beginn des Veranlagungszeitraums Unternehmer oder Mitunternehmer eines im Geltungsbereich dieses Gesetzes belegenen Gewerbebetriebs ist oder, sofern sie Kommanditist ist, mehr als 25 Prozent der Einkünfte im Sinne des § 15 Abs. 1 Satz 1 Nr. 2 des Einkommensteuergesetzes aus der Gesellschaft auf sie entfallen oder ihr eine Beteiligung im Sinne des § 17 Abs. 1 des Einkommensteuergesetzes an einer inländischen Kapitalgesellschaft gehört oder 2. ihre Einkünfte, die bei unbeschränkter Einkommensteuerpflicht nicht ausländische Einkünfte im Sinne des § 34d des Einkommensteuergesetzes sind, im Veranlagungszeitraum mehr als 30 Prozent ihrer sämtlichen Einkünfte betragen oder 62000 Euro übersteigen oder 3. zu Beginn des Veranlagungszeitraums ihr Vermögen, dessen Erträge bei unbeschränkter Einkommensteuerpflicht nicht ausländische Einkünfte im Sinne des § 34d des Einkommensteuergesetzes wären, mehr als 30 Prozent ihres Gesamtvermögens beträgt oder 154000 Euro übersteigt.\n",
            "\n",
            "(4) Bei der Anwendung der Absätze 1 und 3 sind bei einer Person Gewerbebetriebe, Beteiligungen, Einkünfte und Vermögen einer ausländischen Gesellschaft im Sinne des § 5, an der die Person unter den dort genannten Voraussetzungen beteiligt ist, entsprechend ihrer Beteiligung zu berücksichtigen.\n",
            "\n",
            "(5) Ist Absatz 1 anzuwenden, kommt der Steuersatz zur Anwendung, der sich für sämtliche Einkünfte der Person ergibt; für die Ermittlung des Steuersatzes bleiben Einkünfte aus Kapitalvermögen außer Betracht, die dem gesonderten Steuersatz nach § 32d Absatz 1 des Einkommensteuergesetzes unterliegen. Auf Einkünfte, die dem Steuerabzug auf Grund des § 50a des Einkommensteuergesetzes unterliegen, ist § 50 Absatz 2 des Einkommensteuergesetzes nicht anzuwenden. § 43 Absatz 5 des Einkommensteuergesetzes bleibt unberührt.\n",
            "\n",
            "(6) Weist die Person nach, daß die auf Grund der Absätze 1 und 5 zusätzlich zu entrichtende Steuer insgesamt zu einer höheren inländischen Steuer führt, als sie sie bei unbeschränkter Steuerpflicht und Wohnsitz ausschließlich im Geltungsbereich dieses Gesetzes zu entrichten hätte, so wird der übersteigende Betrag insoweit nicht erhoben, als er die Steuer überschreitet, die sich ohne Anwendung der Absätze 1 und 5 ergäbe.\n",
            "\n",
            "## USER QUERY:\n",
            "\n",
            "wenn man sein Wohnsitz in einem niedrigbesteuernden Land wechselt und hat man Einkünften in Deutschland, bleibt man weiter steuerpflichtig?\n",
            "\n",
            "## MODEL RESPONSE:\n",
            "    \n",
            "Ja, wenn Sie Ihr Wohnsitz in einen Land wechseln, wo die Einkommenssteuer niedriger ist, bleibt Sie trotzdem steuerpflichtig, falls Sie Einkünfte in Deutschland haben. Es gibt jedoch einige wichtige Punkte zu beachten:\n",
            "\n",
            "1. **Einkommensteuerpflicht**: Sie bleiben steuerpflichtig, wenn Sie Ihre unbeschränkte Einkommensteuerpflicht (§ 1 Abs. 1 Satz 1 EStG) vollständig oder teilweise erfüllen. Dies gilt auch dann, wenn Sie andere Länder als Deutschland besuchen.\n",
            "\n",
            "2. **Wohnsitz**: Ihre Steuerpflicht basiert auf Ihrem Wohnsitz und nicht auf Ihrer Auslaufphase (Enddatum Ihres steuerpflichtigen Zeitraums).\n",
            "\n",
            "3. **Einkünfte in Deutschland**: Wenn Sie Einkünfte in Deutschland haben, bleiben Sie steuerpflichtig. Diese Einkünfte werden normalerweise als \"ausländische Einkünfte\" (§ 34d EStG) abgerechnet, obwohl sie wahrscheinlich in Deutschland gezahlt wurden.\n",
            "\n",
            "4. **Kompensation**: Sie können versuchen, den zu zahlenden Mehrsteuer durch eine Reisepflicht zu decken. Das reicht jedoch oft nicht aus, um die Steuer zu entsprechen, da dies oft mehr als 16.500 Euro beträgt.\n",
            "\n",
            "5. **Anschluss von Investitionssteuer**: Wenn Sie investieren, können Sie möglicherweise zusätzliche Steuern bezahlen, was die Steuerpflicht noch verstärken könnte.\n",
            "\n",
            "Insgesamt ist es wichtig, dass Sie Ihren Einkommen genau abrechnen und die richtige Steuerpflicht bestimmen, um sicherzustellen, dass Sie keine übertriebenen Kosten für Steuerpflicht enthalten.\n"
          ]
        }
      ],
      "source": [
        "query = \"wenn man sein Wohnsitz in einem niedrigbesteuernden Land wechselt und hat man Einkünften in Deutschland, bleibt man weiter steuerpflichtig?\"\n",
        "response = rag_query(query)\n",
        "print(response)"
      ]
    },
    {
      "cell_type": "markdown",
      "id": "43dfd28b-6d7f-41fa-9839-60bd364fe1a4",
      "metadata": {
        "id": "43dfd28b-6d7f-41fa-9839-60bd364fe1a4"
      },
      "source": [
        "**********************************************************************************\n",
        "The model response to question is correct but the details given in the response are not so accurate.\n",
        "\n",
        "### Third Question\n",
        "\n",
        "Let's make our last test and ask one more question. In the next question I ask if Germans will continue to be tax liable after moving out of Germany if they don't have any economic interests in Germany (such as a business or some income)."
      ]
    },
    {
      "cell_type": "code",
      "execution_count": 24,
      "id": "d9654073-76fd-464d-aa1c-6c9c196b47da",
      "metadata": {
        "colab": {
          "base_uri": "https://localhost:8080/"
        },
        "id": "d9654073-76fd-464d-aa1c-6c9c196b47da",
        "outputId": "7b9cf31e-7bb1-47ca-c25e-77dc970d8a20"
      },
      "outputs": [
        {
          "output_type": "stream",
          "name": "stdout",
          "text": [
            "\n",
            "## Instruction:\n",
            "\n",
            "Answer this legal question about the German tax law based on the context below.\n",
            "\n",
            "## LEGAL CONTEXT:\n",
            "\n",
            "§ 10 Hinzurechnungsbetrag\n",
            "\n",
            "(1) Die nach § 7 Absatz 1 steuerpflichtigen Einkünfte sind bei dem Steuerpflichtigen als Hinzurechnungsbetrag anzusetzen. Ergibt sich ein negativer Betrag, so entfällt die Hinzurechnung.\n",
            "\n",
            "(2) Der Hinzurechnungsbetrag gehört zu den Einkünften im Sinne des § 20 Absatz 1 Nummer 1 des Einkommensteuergesetzes und gilt in dem Veranlagungszeitraum als zugeflossen, in dem das maßgebende Wirtschaftsjahr der ausländischen Gesellschaft endet. Gehören Anteile an der ausländischen Gesellschaft zu einem Betriebsvermögen, so gehört der Hinzurechnungsbetrag zu den Einkünften aus Gewerbebetrieb, aus Land- und Forstwirtschaft oder aus selbständiger Arbeit und erhöht den nach dem Einkommen- oder Körperschaftsteuergesetz ermittelten Gewinn des Betriebs für das Wirtschaftsjahr, in dem das Wirtschaftsjahr der ausländischen Gesellschaft endet. Sind dem Steuerpflichtigen die Anteile an der ausländischen Gesellschaft mittelbar zuzurechnen, gilt Satz 2 nur, soweit die Anteile an der unmittelbar gehaltenen vermittelnden Beteiligung zu einem Betriebsvermögen gehören. Auf den Hinzurechnungsbetrag sind § 3 Nummer 40 Satz 1 Buchstabe d, § 32d des Einkommensteuergesetzes, § 8b Absatz 1 des Körperschaftsteuergesetzes und § 9 Nummer 7 des Gewerbesteuergesetzes nicht anzuwenden.\n",
            "\n",
            "(3) Die dem Hinzurechnungsbetrag zugrunde liegenden Einkünfte sind in entsprechender Anwendung der Vorschriften des deutschen Steuerrechts zu ermitteln. Alle Einkünfte, für die die ausländische Gesellschaft Zwischengesellschaft ist, sind als Einkünfte aus Gewerbebetrieb zu behandeln; ihre Ermittlung hat gemäß § 4 Absatz 1 des Einkommensteuergesetzes zu erfolgen. § 10 Nummer 2 des Körperschaftsteuergesetzes ist auf eine von der ausländischen Gesellschaft zu entrichtende Vermögensteuer nicht anzuwenden. Steuerliche Vergünstigungen, die an die unbeschränkte Steuerpflicht oder an das Bestehen eines inländischen Betriebs oder einer inländischen Betriebsstätte anknüpfen, und die Vorschriften des Umwandlungssteuergesetzes bleiben unberücksichtigt. Verluste, die bei Einkünften entstanden sind, für die die ausländische Gesellschaft Zwischengesellschaft ist, können in entsprechender Anwendung des § 10d des Einkommensteuergesetzes, soweit sie die nach § 9 außer Ansatz zu lassenden Einkünfte übersteigen, abgezogen werden. Ein Verlustrücktrag ist nicht zulässig.\n",
            "\n",
            "(4) Bei der Ermittlung der Einkünfte, für die die ausländische Gesellschaft Zwischengesellschaft ist, dürfen nur solche Betriebsausgaben abgezogen werden, die mit diesen Einkünften in wirtschaftlichem Zusammenhang stehen.\n",
            "\n",
            "(5) Soweit in Anwendung des Absatzes 3 Wirtschaftsgüter erstmals zu bewerten sind, sind sie mit den Werten anzusetzen, die sich ergeben würden, wenn seit Übernahme der Wirtschaftsgüter durch die ausländische Gesellschaft die Vorschriften des deutschen Steuerrechts angewendet worden wären. In den Fällen des § 8 Absatz 1 Nummer 9 sind bei der übernehmenden Gesellschaft die auf sie übergegangenen Wirtschaftsgüter mit dem von der übertragenden Gesellschaft angesetzten Wert zu übernehmen.\n",
            "\n",
            "(6) Soweit die dem Hinzurechnungsbetrag zugrunde liegenden Einkünfte oder Einkunftsquellen zu Erträgen des Steuerpflichtigen im Sinne des § 20 Absatz 1 Nummer 3 des Einkommensteuergesetzes in Verbindung mit § 16 Absatz 1 Nummer 2 des Investmentsteuergesetzes oder im Sinne des § 20 Absatz 1 Nummer 3a des Einkommensteuergesetzes in Verbindung mit § 34 Absatz 1 Nummer 2 des Investmentsteuergesetzes führen, ist der Hinzurechnungsbetrag in Höhe dieser Erträge zu mindern.\n",
            "\n",
            "§ 2 Einkommensteuer\n",
            "\n",
            "(1) Eine natürliche Person, die in den letzten zehn Jahren vor dem Ende ihrer unbeschränkten Steuerpflicht nach § 1 Abs. 1 Satz 1 des Einkommensteuergesetzes als Deutscher insgesamt mindestens fünf Jahre unbeschränkt einkommensteuerpflichtig war und 1. in einem ausländischen Gebiet ansässig ist, in dem sie mit ihrem Einkommen nur einer niedrigen Besteuerung unterliegt, oder in keinem ausländischen Gebiet ansässig ist und 2. wesentliche wirtschaftliche Interessen im Geltungsbereich dieses Gesetzes hat, ist bis zum Ablauf von zehn Jahren nach Ende des Jahres, in dem ihre unbeschränkte Steuerpflicht geendet hat, über die beschränkte Steuerpflicht im Sinne des Einkommensteuergesetzes hinaus beschränkt einkommensteuerpflichtig mit allen Einkünften im Sinne des § 2 Abs. 1 Satz 1 erster Halbsatz des Einkommensteuergesetzes, die bei unbeschränkter Einkommensteuerpflicht nicht ausländische Einkünfte im Sinne des § 34d des Einkommensteuergesetzes sind. Für Einkünfte der natürlichen Person, die weder durch deren ausländische Betriebsstätte noch durch deren in einem ausländischen Staat tätigen ständigen Vertreter erzielt werden, ist für die Anwendung dieser Vorschrift das Bestehen einer inländischen Geschäftsleitungsbetriebsstätte der natürlichen Person anzunehmen, der solche Einkünfte zuzuordnen sind. Satz 1 findet nur Anwendung für Veranlagungszeiträume, in denen die hiernach insgesamt beschränkt steuerpflichtigen Einkünfte mehr als 16500 Euro betragen.\n",
            "\n",
            "(2) Eine niedrige Besteuerung im Sinne des Absatzes 1 Nr. 1 liegt vor, wenn 1. die Belastung durch die in dem ausländischen Gebiet erhobene Einkommensteuer - nach dem Tarif unter Einbeziehung von tariflichen Freibeträgen - bei einer in diesem Gebiet ansässigen unverheirateten natürlichen Person, die ein steuerpflichtiges Einkommen von 77000 Euro bezieht, um mehr als ein Drittel geringer ist als die Belastung einer im Geltungsbereich dieses Gesetzes ansässigen natürlichen Person durch die deutsche Einkommensteuer unter sonst gleichen Bedingungen, es sei denn, die Person weist nach, daß die von ihrem Einkommen insgesamt zu entrichtenden Steuern mindestens zwei Drittel der Einkommensteuer betragen, die sie bei unbeschränkter Steuerpflicht nach § 1 Abs. 1 des Einkommensteuergesetzes zu entrichten hätte, oder 2. die Belastung der Person durch die in dem ausländischen Gebiet erhobene Einkommensteuer auf Grund einer gegenüber der allgemeinen Besteuerung eingeräumten Vorzugsbesteuerung erheblich gemindert sein kann, es sei denn, die Person weist nach, daß die von ihrem Einkommen insgesamt zu entrichtenden Steuern mindestens zwei Drittel der Einkommensteuer betragen, die sie bei unbeschränkter Steuerpflicht nach § 1 Abs. 1 des Einkommensteuergesetzes zu entrichten hätte.\n",
            "\n",
            "(3) Eine Person hat im Sinne des Absatzes 1 Nr. 2 wesentliche wirtschaftliche Interessen im Geltungsbereich dieses Gesetzes, wenn 1. sie zu Beginn des Veranlagungszeitraums Unternehmer oder Mitunternehmer eines im Geltungsbereich dieses Gesetzes belegenen Gewerbebetriebs ist oder, sofern sie Kommanditist ist, mehr als 25 Prozent der Einkünfte im Sinne des § 15 Abs. 1 Satz 1 Nr. 2 des Einkommensteuergesetzes aus der Gesellschaft auf sie entfallen oder ihr eine Beteiligung im Sinne des § 17 Abs. 1 des Einkommensteuergesetzes an einer inländischen Kapitalgesellschaft gehört oder 2. ihre Einkünfte, die bei unbeschränkter Einkommensteuerpflicht nicht ausländische Einkünfte im Sinne des § 34d des Einkommensteuergesetzes sind, im Veranlagungszeitraum mehr als 30 Prozent ihrer sämtlichen Einkünfte betragen oder 62000 Euro übersteigen oder 3. zu Beginn des Veranlagungszeitraums ihr Vermögen, dessen Erträge bei unbeschränkter Einkommensteuerpflicht nicht ausländische Einkünfte im Sinne des § 34d des Einkommensteuergesetzes wären, mehr als 30 Prozent ihres Gesamtvermögens beträgt oder 154000 Euro übersteigt.\n",
            "\n",
            "(4) Bei der Anwendung der Absätze 1 und 3 sind bei einer Person Gewerbebetriebe, Beteiligungen, Einkünfte und Vermögen einer ausländischen Gesellschaft im Sinne des § 5, an der die Person unter den dort genannten Voraussetzungen beteiligt ist, entsprechend ihrer Beteiligung zu berücksichtigen.\n",
            "\n",
            "(5) Ist Absatz 1 anzuwenden, kommt der Steuersatz zur Anwendung, der sich für sämtliche Einkünfte der Person ergibt; für die Ermittlung des Steuersatzes bleiben Einkünfte aus Kapitalvermögen außer Betracht, die dem gesonderten Steuersatz nach § 32d Absatz 1 des Einkommensteuergesetzes unterliegen. Auf Einkünfte, die dem Steuerabzug auf Grund des § 50a des Einkommensteuergesetzes unterliegen, ist § 50 Absatz 2 des Einkommensteuergesetzes nicht anzuwenden. § 43 Absatz 5 des Einkommensteuergesetzes bleibt unberührt.\n",
            "\n",
            "(6) Weist die Person nach, daß die auf Grund der Absätze 1 und 5 zusätzlich zu entrichtende Steuer insgesamt zu einer höheren inländischen Steuer führt, als sie sie bei unbeschränkter Steuerpflicht und Wohnsitz ausschließlich im Geltungsbereich dieses Gesetzes zu entrichten hätte, so wird der übersteigende Betrag insoweit nicht erhoben, als er die Steuer überschreitet, die sich ohne Anwendung der Absätze 1 und 5 ergäbe.\n",
            "\n",
            "## USER QUERY:\n",
            "\n",
            "bleiben deutsche Staatsbürger weiter Steuerpflichtig nach dem Auszug ins Ausland, wenn sie keine wirtschaftliche Interessen in Deutschland haben (keine Unternehmen oder Einkünfte)?\n",
            "\n",
            "## MODEL RESPONSE:\n",
            "    \n",
            "Yes, according to Section 2 of the German Income Tax Act, if a natural person has no economic interests in Germany after leaving the country and is not subject to income tax there due to lower taxation conditions in their current residence area or because they have significant business interests abroad, then they will still be subject to limited income tax until the end of ten years following the date when their unlimited tax liability ended. This applies even if they had previously earned substantial income from businesses in Germany that would normally qualify for reduced rates under the German Income Tax Act. The exemption only covers cases where the individual's previous income was taxed at a rate significantly lower than what it would have been under the general tax rate applicable to residents of Germany.\n"
          ]
        }
      ],
      "source": [
        "query = \"bleiben deutsche Staatsbürger weiter Steuerpflichtig nach dem Auszug ins Ausland, wenn sie keine wirtschaftliche Interessen in Deutschland haben (keine Unternehmen oder Einkünfte)?\"\n",
        "response = rag_query(query)\n",
        "print(response)"
      ]
    },
    {
      "cell_type": "markdown",
      "id": "d7a264cc-1e52-4a8c-936e-6f3cb3b6de53",
      "metadata": {
        "id": "d7a264cc-1e52-4a8c-936e-6f3cb3b6de53"
      },
      "source": [
        "**********************************************************************************\n",
        "\n",
        "**The answer this time is wrong and contradicts the given context. It seems like the model was not able to reason properly about that question.**\n",
        "\n",
        "**********************************************************************************"
      ]
    },
    {
      "cell_type": "markdown",
      "id": "f4e7669e-c421-4149-a4a4-b017bb66a131",
      "metadata": {
        "id": "f4e7669e-c421-4149-a4a4-b017bb66a131"
      },
      "source": [
        "## Conclusion and Future Work\n",
        "\n"
      ]
    },
    {
      "cell_type": "markdown",
      "id": "7d3734f4-5abc-4fd8-bda8-012c7ae4d084",
      "metadata": {
        "id": "7d3734f4-5abc-4fd8-bda8-012c7ae4d084"
      },
      "source": [
        "The model performs reasonably well given its small size (1.5B parameters). However, there is still room for improvement. The model is likely not trained on enough legal data and it would be better if we finetune the model on legal data.\n",
        "\n",
        "### Why finetuning helps:\n",
        "\n",
        "* **Domain Adaptation:** Legal texts require understanding of jargon, nested logic, and cross-referenced articles. Fine-tuning aligns the model’s embeddings with legal semantics.\n",
        "\n",
        "* **Improved Context Utilization:** Even with RAG, smaller models may fail to properly prioritize or synthesize retrieved legal context. Fine-tuning teaches the model to focus on key phrases (e.g., \"Article 12\", \"tax liability\") and structure answers appropriately.\n",
        "\n",
        "* **Reduced Hallucinations:** Models untrained on legal data may \"guess\" based on general knowledge, leading to inaccuracies. Fine-tuning anchors responses to legal terminology and logic.\n",
        "\n",
        "Below are some ideas for further improvements."
      ]
    },
    {
      "cell_type": "markdown",
      "id": "44d1e52d-50a8-45bc-a04f-9d8913c5158a",
      "metadata": {
        "id": "44d1e52d-50a8-45bc-a04f-9d8913c5158a"
      },
      "source": [
        "### Training Tasks for Legal Fine-Tuning\n",
        "\n",
        "### 1. Legal Corpus Pre-Training\n",
        "\n",
        "- **Objective:** Adapt the model’s base knowledge to legal language.\n",
        "\n",
        "- **Data:** Use legal texts (statutes, court rulings, tax codes, contracts) from the target jurisdiction.\n",
        "\n",
        "- **Tasks:**\n",
        "\n",
        "    - **Causal Language Modeling:** Train the model to predict the next token in legal documents (helps with coherence in generating citations).\n",
        "\n",
        "### 2. Question-Answering (QA) Fine-Tuning\n",
        "\n",
        "- **Objective:** Teach the model to answer questions using legal references.\n",
        "\n",
        "- **Data:**\n",
        "\n",
        "    - **Synthetic QA Pairs:** Generate questions and answers from legal texts (e.g., \"What is the penalty for late tax filing under Article 5?\" → \"Article 5 states...\").\n",
        "\n",
        "    - **Legal Exams/Textbooks:** Use existing QA datasets (e.g., Bar exam questions, legal textbooks).\n",
        "\n",
        "    - **RAG-Style Training:** Provide \"context\" (retrieved law articles) and ask the model to answer questions based on it.\n",
        "\n",
        "- **Tasks:**\n",
        "\n",
        "    - **Extractive QA:** Identify spans of text in the context that answer the question (e.g., exact articles or clauses).\n",
        "\n",
        "    - **Summarization:** Condense legal text into concise answers (e.g., \"Summarize the tax exemptions in Article 3\").\n",
        "\n",
        "### 3. Citation and Reference Training\n",
        "\n",
        "- **Objective:** Ensure the model cites correct articles and avoids contradictions.\n",
        "\n",
        "- **Data:** Examples where answers must reference specific laws (e.g., \"Under [Article 12], taxpayers must...\").\n",
        "\n",
        "- **Tasks:**\n",
        "\n",
        "    - **Prompt Engineering:** Use templates like, \"Based on [Article X], [explanation].\"\n",
        "\n",
        "    - **Negative Examples:** Penalize the model for citing irrelevant articles during training.\n",
        "\n"
      ]
    }
  ],
  "metadata": {
    "accelerator": "GPU",
    "colab": {
      "gpuType": "A100",
      "provenance": []
    },
    "kernelspec": {
      "display_name": "Python 3 (ipykernel)",
      "language": "python",
      "name": "python3"
    },
    "language_info": {
      "codemirror_mode": {
        "name": "ipython",
        "version": 3
      },
      "file_extension": ".py",
      "mimetype": "text/x-python",
      "name": "python",
      "nbconvert_exporter": "python",
      "pygments_lexer": "ipython3",
      "version": "3.12.7"
    }
  },
  "nbformat": 4,
  "nbformat_minor": 5
}